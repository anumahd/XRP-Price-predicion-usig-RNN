{
 "cells": [
  {
   "cell_type": "markdown",
   "id": "430e35d7",
   "metadata": {},
   "source": [
    "#### XRP Price Forecasting with RNNs"
   ]
  },
  {
   "cell_type": "markdown",
   "id": "5ad20e80",
   "metadata": {},
   "source": [
    "<img src=\"fprecasting.png\" alt=\"forecasting\" width=\"9500\" height=300/>"
   ]
  },
  {
   "cell_type": "raw",
   "id": "b08f99aa",
   "metadata": {},
   "source": [
    "Welcome to the XRP Cryptocurrency Price Forecasting project using Recurrent Neural Networks (RNN). In this project, we utilize RNNs to predict the price of XRP cryptocurrency based on historical price data. The RNN model is trained on the past price trends and patterns of XRP, and it is capable of making future price predictions. This project aims to provide insights into the potential price movements of XRP, which can be useful for traders, investors, and anyone interested in the cryptocurrency market."
   ]
  },
  {
   "cell_type": "code",
   "execution_count": 1,
   "id": "3ae6e51b",
   "metadata": {},
   "outputs": [],
   "source": [
    "# lets import our liberies\n",
    "\n",
    "import pandas as pd\n",
    "import numpy as np\n",
    "\n",
    "#to plot within notebook\n",
    "import matplotlib.pyplot as plt\n",
    "%matplotlib inline\n",
    "\n",
    "#setting figure size\n",
    "from matplotlib.pylab import rcParams\n",
    "rcParams['figure.figsize'] = 20,10\n",
    "\n",
    "#for normalizing data\n",
    "from sklearn.preprocessing import MinMaxScaler\n",
    "scaler = MinMaxScaler(feature_range=(0, 1))\n",
    "\n",
    "#importing required libraries\n",
    "from sklearn.preprocessing import MinMaxScaler\n",
    "from keras.models import Sequential\n",
    "from keras.layers import Dense, Dropout, LSTM # LSTM is the only different\n",
    "# module we need from a CNN"
   ]
  },
  {
   "cell_type": "code",
   "execution_count": 2,
   "id": "6b1bef11",
   "metadata": {},
   "outputs": [],
   "source": [
    "df= pd.read_csv(\"XRP Historical Data - Investing.com UK.csv\") # import XRP historic price"
   ]
  },
  {
   "cell_type": "code",
   "execution_count": 3,
   "id": "fffecda9",
   "metadata": {},
   "outputs": [
    {
     "data": {
      "text/plain": [
       "Date         object\n",
       "Price       float64\n",
       "Open        float64\n",
       "High        float64\n",
       "Low         float64\n",
       "Vol.         object\n",
       "Change %     object\n",
       "dtype: object"
      ]
     },
     "execution_count": 3,
     "metadata": {},
     "output_type": "execute_result"
    }
   ],
   "source": [
    "df.dtypes"
   ]
  },
  {
   "cell_type": "code",
   "execution_count": 4,
   "id": "7d101e3a",
   "metadata": {},
   "outputs": [
    {
     "data": {
      "text/html": [
       "<div>\n",
       "<style scoped>\n",
       "    .dataframe tbody tr th:only-of-type {\n",
       "        vertical-align: middle;\n",
       "    }\n",
       "\n",
       "    .dataframe tbody tr th {\n",
       "        vertical-align: top;\n",
       "    }\n",
       "\n",
       "    .dataframe thead th {\n",
       "        text-align: right;\n",
       "    }\n",
       "</style>\n",
       "<table border=\"1\" class=\"dataframe\">\n",
       "  <thead>\n",
       "    <tr style=\"text-align: right;\">\n",
       "      <th></th>\n",
       "      <th>Date</th>\n",
       "      <th>Price</th>\n",
       "      <th>Open</th>\n",
       "      <th>High</th>\n",
       "      <th>Low</th>\n",
       "      <th>Vol.</th>\n",
       "      <th>Change %</th>\n",
       "    </tr>\n",
       "  </thead>\n",
       "  <tbody>\n",
       "    <tr>\n",
       "      <th>0</th>\n",
       "      <td>Mar 08, 2023</td>\n",
       "      <td>0.38874</td>\n",
       "      <td>0.38019</td>\n",
       "      <td>0.40041</td>\n",
       "      <td>0.37250</td>\n",
       "      <td>966.40M</td>\n",
       "      <td>2.25%</td>\n",
       "    </tr>\n",
       "    <tr>\n",
       "      <th>1</th>\n",
       "      <td>Mar 07, 2023</td>\n",
       "      <td>0.38020</td>\n",
       "      <td>0.36951</td>\n",
       "      <td>0.38432</td>\n",
       "      <td>0.36698</td>\n",
       "      <td>833.56M</td>\n",
       "      <td>2.85%</td>\n",
       "    </tr>\n",
       "    <tr>\n",
       "      <th>2</th>\n",
       "      <td>Mar 06, 2023</td>\n",
       "      <td>0.36964</td>\n",
       "      <td>0.36677</td>\n",
       "      <td>0.37393</td>\n",
       "      <td>0.35979</td>\n",
       "      <td>624.87M</td>\n",
       "      <td>0.77%</td>\n",
       "    </tr>\n",
       "    <tr>\n",
       "      <th>3</th>\n",
       "      <td>Mar 05, 2023</td>\n",
       "      <td>0.36681</td>\n",
       "      <td>0.37350</td>\n",
       "      <td>0.37720</td>\n",
       "      <td>0.36560</td>\n",
       "      <td>250.28M</td>\n",
       "      <td>-1.79%</td>\n",
       "    </tr>\n",
       "    <tr>\n",
       "      <th>4</th>\n",
       "      <td>Mar 04, 2023</td>\n",
       "      <td>0.37351</td>\n",
       "      <td>0.37737</td>\n",
       "      <td>0.37974</td>\n",
       "      <td>0.36827</td>\n",
       "      <td>259.12M</td>\n",
       "      <td>-1.03%</td>\n",
       "    </tr>\n",
       "  </tbody>\n",
       "</table>\n",
       "</div>"
      ],
      "text/plain": [
       "           Date    Price     Open     High      Low     Vol. Change %\n",
       "0  Mar 08, 2023  0.38874  0.38019  0.40041  0.37250  966.40M    2.25%\n",
       "1  Mar 07, 2023  0.38020  0.36951  0.38432  0.36698  833.56M    2.85%\n",
       "2  Mar 06, 2023  0.36964  0.36677  0.37393  0.35979  624.87M    0.77%\n",
       "3  Mar 05, 2023  0.36681  0.37350  0.37720  0.36560  250.28M   -1.79%\n",
       "4  Mar 04, 2023  0.37351  0.37737  0.37974  0.36827  259.12M   -1.03%"
      ]
     },
     "execution_count": 4,
     "metadata": {},
     "output_type": "execute_result"
    }
   ],
   "source": [
    "df.head()"
   ]
  },
  {
   "cell_type": "code",
   "execution_count": 5,
   "id": "d921aeaf",
   "metadata": {},
   "outputs": [
    {
     "data": {
      "text/plain": [
       "(2968, 7)"
      ]
     },
     "execution_count": 5,
     "metadata": {},
     "output_type": "execute_result"
    }
   ],
   "source": [
    "df.shape"
   ]
  },
  {
   "cell_type": "code",
   "execution_count": 6,
   "id": "d153573b",
   "metadata": {},
   "outputs": [],
   "source": [
    "# we only need the date abd the closing price columns for our prediction. \n",
    "#we also need to convert the date column to a date time format is it is an object at the moment"
   ]
  },
  {
   "cell_type": "code",
   "execution_count": 7,
   "id": "8fa1a5ce",
   "metadata": {},
   "outputs": [],
   "source": [
    "df['Date']=pd.to_datetime(df['Date'])"
   ]
  },
  {
   "cell_type": "code",
   "execution_count": 8,
   "id": "ddbc950b",
   "metadata": {},
   "outputs": [
    {
     "data": {
      "text/html": [
       "<div>\n",
       "<style scoped>\n",
       "    .dataframe tbody tr th:only-of-type {\n",
       "        vertical-align: middle;\n",
       "    }\n",
       "\n",
       "    .dataframe tbody tr th {\n",
       "        vertical-align: top;\n",
       "    }\n",
       "\n",
       "    .dataframe thead th {\n",
       "        text-align: right;\n",
       "    }\n",
       "</style>\n",
       "<table border=\"1\" class=\"dataframe\">\n",
       "  <thead>\n",
       "    <tr style=\"text-align: right;\">\n",
       "      <th></th>\n",
       "      <th>Date</th>\n",
       "      <th>Price</th>\n",
       "      <th>Open</th>\n",
       "      <th>High</th>\n",
       "      <th>Low</th>\n",
       "      <th>Vol.</th>\n",
       "      <th>Change %</th>\n",
       "    </tr>\n",
       "  </thead>\n",
       "  <tbody>\n",
       "    <tr>\n",
       "      <th>0</th>\n",
       "      <td>2023-03-08</td>\n",
       "      <td>0.38874</td>\n",
       "      <td>0.38019</td>\n",
       "      <td>0.40041</td>\n",
       "      <td>0.37250</td>\n",
       "      <td>966.40M</td>\n",
       "      <td>2.25%</td>\n",
       "    </tr>\n",
       "    <tr>\n",
       "      <th>1</th>\n",
       "      <td>2023-03-07</td>\n",
       "      <td>0.38020</td>\n",
       "      <td>0.36951</td>\n",
       "      <td>0.38432</td>\n",
       "      <td>0.36698</td>\n",
       "      <td>833.56M</td>\n",
       "      <td>2.85%</td>\n",
       "    </tr>\n",
       "    <tr>\n",
       "      <th>2</th>\n",
       "      <td>2023-03-06</td>\n",
       "      <td>0.36964</td>\n",
       "      <td>0.36677</td>\n",
       "      <td>0.37393</td>\n",
       "      <td>0.35979</td>\n",
       "      <td>624.87M</td>\n",
       "      <td>0.77%</td>\n",
       "    </tr>\n",
       "    <tr>\n",
       "      <th>3</th>\n",
       "      <td>2023-03-05</td>\n",
       "      <td>0.36681</td>\n",
       "      <td>0.37350</td>\n",
       "      <td>0.37720</td>\n",
       "      <td>0.36560</td>\n",
       "      <td>250.28M</td>\n",
       "      <td>-1.79%</td>\n",
       "    </tr>\n",
       "    <tr>\n",
       "      <th>4</th>\n",
       "      <td>2023-03-04</td>\n",
       "      <td>0.37351</td>\n",
       "      <td>0.37737</td>\n",
       "      <td>0.37974</td>\n",
       "      <td>0.36827</td>\n",
       "      <td>259.12M</td>\n",
       "      <td>-1.03%</td>\n",
       "    </tr>\n",
       "  </tbody>\n",
       "</table>\n",
       "</div>"
      ],
      "text/plain": [
       "        Date    Price     Open     High      Low     Vol. Change %\n",
       "0 2023-03-08  0.38874  0.38019  0.40041  0.37250  966.40M    2.25%\n",
       "1 2023-03-07  0.38020  0.36951  0.38432  0.36698  833.56M    2.85%\n",
       "2 2023-03-06  0.36964  0.36677  0.37393  0.35979  624.87M    0.77%\n",
       "3 2023-03-05  0.36681  0.37350  0.37720  0.36560  250.28M   -1.79%\n",
       "4 2023-03-04  0.37351  0.37737  0.37974  0.36827  259.12M   -1.03%"
      ]
     },
     "execution_count": 8,
     "metadata": {},
     "output_type": "execute_result"
    }
   ],
   "source": [
    "df.head() #lets see how it has converted the data"
   ]
  },
  {
   "cell_type": "code",
   "execution_count": 9,
   "id": "43d49d89",
   "metadata": {},
   "outputs": [
    {
     "data": {
      "text/html": [
       "<div>\n",
       "<style scoped>\n",
       "    .dataframe tbody tr th:only-of-type {\n",
       "        vertical-align: middle;\n",
       "    }\n",
       "\n",
       "    .dataframe tbody tr th {\n",
       "        vertical-align: top;\n",
       "    }\n",
       "\n",
       "    .dataframe thead th {\n",
       "        text-align: right;\n",
       "    }\n",
       "</style>\n",
       "<table border=\"1\" class=\"dataframe\">\n",
       "  <thead>\n",
       "    <tr style=\"text-align: right;\">\n",
       "      <th></th>\n",
       "      <th>Date</th>\n",
       "      <th>Price</th>\n",
       "    </tr>\n",
       "  </thead>\n",
       "  <tbody>\n",
       "    <tr>\n",
       "      <th>0</th>\n",
       "      <td>2015-01-22 00:00:00</td>\n",
       "      <td>0.01602</td>\n",
       "    </tr>\n",
       "    <tr>\n",
       "      <th>1</th>\n",
       "      <td>2015-01-23 00:00:00</td>\n",
       "      <td>0.016</td>\n",
       "    </tr>\n",
       "    <tr>\n",
       "      <th>2</th>\n",
       "      <td>2015-01-24 00:00:00</td>\n",
       "      <td>0.01739</td>\n",
       "    </tr>\n",
       "    <tr>\n",
       "      <th>3</th>\n",
       "      <td>2015-01-25 00:00:00</td>\n",
       "      <td>0.017</td>\n",
       "    </tr>\n",
       "    <tr>\n",
       "      <th>4</th>\n",
       "      <td>2015-01-26 00:00:00</td>\n",
       "      <td>0.01469</td>\n",
       "    </tr>\n",
       "  </tbody>\n",
       "</table>\n",
       "</div>"
      ],
      "text/plain": [
       "                  Date    Price\n",
       "0  2015-01-22 00:00:00  0.01602\n",
       "1  2015-01-23 00:00:00    0.016\n",
       "2  2015-01-24 00:00:00  0.01739\n",
       "3  2015-01-25 00:00:00    0.017\n",
       "4  2015-01-26 00:00:00  0.01469"
      ]
     },
     "execution_count": 9,
     "metadata": {},
     "output_type": "execute_result"
    }
   ],
   "source": [
    "#lets set the date column as an index\n",
    "\n",
    "df.index=df['Date']\n",
    "\n",
    "#create a new dataframe\n",
    "data=df.sort_index(ascending=True, axis=0)\n",
    "\n",
    "#lets isolate the date and price columns. Alternatively, we could drop them but i want to isolate them \n",
    "nData=pd.DataFrame(index=range(0,len(df)), columns=['Date', 'Price'])\n",
    "#now we have an emptty date frame that is thesame length as our XRP historic data\n",
    "\n",
    "#next, we copy the data from 'df' into out new data frame, 'nData'\n",
    "\n",
    "for i in range (0, len(data)):\n",
    "    nData['Date'][i]=data['Date'][i]\n",
    "    nData['Price'][i]=data['Price'][i]\n",
    "    \n",
    "nData.head()"
   ]
  },
  {
   "cell_type": "code",
   "execution_count": 10,
   "id": "214fdc04",
   "metadata": {},
   "outputs": [
    {
     "data": {
      "text/plain": [
       "(2968, 2)"
      ]
     },
     "execution_count": 10,
     "metadata": {},
     "output_type": "execute_result"
    }
   ],
   "source": [
    "nData.shape #we have thesame shape as our original data"
   ]
  },
  {
   "cell_type": "code",
   "execution_count": 11,
   "id": "d5ae9089",
   "metadata": {},
   "outputs": [
    {
     "data": {
      "text/html": [
       "<div>\n",
       "<style scoped>\n",
       "    .dataframe tbody tr th:only-of-type {\n",
       "        vertical-align: middle;\n",
       "    }\n",
       "\n",
       "    .dataframe tbody tr th {\n",
       "        vertical-align: top;\n",
       "    }\n",
       "\n",
       "    .dataframe thead th {\n",
       "        text-align: right;\n",
       "    }\n",
       "</style>\n",
       "<table border=\"1\" class=\"dataframe\">\n",
       "  <thead>\n",
       "    <tr style=\"text-align: right;\">\n",
       "      <th></th>\n",
       "      <th>Date</th>\n",
       "      <th>Price</th>\n",
       "    </tr>\n",
       "  </thead>\n",
       "  <tbody>\n",
       "    <tr>\n",
       "      <th>2963</th>\n",
       "      <td>2023-03-04 00:00:00</td>\n",
       "      <td>0.37351</td>\n",
       "    </tr>\n",
       "    <tr>\n",
       "      <th>2964</th>\n",
       "      <td>2023-03-05 00:00:00</td>\n",
       "      <td>0.36681</td>\n",
       "    </tr>\n",
       "    <tr>\n",
       "      <th>2965</th>\n",
       "      <td>2023-03-06 00:00:00</td>\n",
       "      <td>0.36964</td>\n",
       "    </tr>\n",
       "    <tr>\n",
       "      <th>2966</th>\n",
       "      <td>2023-03-07 00:00:00</td>\n",
       "      <td>0.3802</td>\n",
       "    </tr>\n",
       "    <tr>\n",
       "      <th>2967</th>\n",
       "      <td>2023-03-08 00:00:00</td>\n",
       "      <td>0.38874</td>\n",
       "    </tr>\n",
       "  </tbody>\n",
       "</table>\n",
       "</div>"
      ],
      "text/plain": [
       "                     Date    Price\n",
       "2963  2023-03-04 00:00:00  0.37351\n",
       "2964  2023-03-05 00:00:00  0.36681\n",
       "2965  2023-03-06 00:00:00  0.36964\n",
       "2966  2023-03-07 00:00:00   0.3802\n",
       "2967  2023-03-08 00:00:00  0.38874"
      ]
     },
     "execution_count": 11,
     "metadata": {},
     "output_type": "execute_result"
    }
   ],
   "source": [
    "nData.tail()"
   ]
  },
  {
   "cell_type": "code",
   "execution_count": 12,
   "id": "183e08c2",
   "metadata": {},
   "outputs": [
    {
     "data": {
      "text/html": [
       "<div>\n",
       "<style scoped>\n",
       "    .dataframe tbody tr th:only-of-type {\n",
       "        vertical-align: middle;\n",
       "    }\n",
       "\n",
       "    .dataframe tbody tr th {\n",
       "        vertical-align: top;\n",
       "    }\n",
       "\n",
       "    .dataframe thead th {\n",
       "        text-align: right;\n",
       "    }\n",
       "</style>\n",
       "<table border=\"1\" class=\"dataframe\">\n",
       "  <thead>\n",
       "    <tr style=\"text-align: right;\">\n",
       "      <th></th>\n",
       "      <th>Price</th>\n",
       "    </tr>\n",
       "    <tr>\n",
       "      <th>Date</th>\n",
       "      <th></th>\n",
       "    </tr>\n",
       "  </thead>\n",
       "  <tbody>\n",
       "    <tr>\n",
       "      <th>2015-01-22</th>\n",
       "      <td>0.01602</td>\n",
       "    </tr>\n",
       "    <tr>\n",
       "      <th>2015-01-23</th>\n",
       "      <td>0.016</td>\n",
       "    </tr>\n",
       "    <tr>\n",
       "      <th>2015-01-24</th>\n",
       "      <td>0.01739</td>\n",
       "    </tr>\n",
       "    <tr>\n",
       "      <th>2015-01-25</th>\n",
       "      <td>0.017</td>\n",
       "    </tr>\n",
       "    <tr>\n",
       "      <th>2015-01-26</th>\n",
       "      <td>0.01469</td>\n",
       "    </tr>\n",
       "  </tbody>\n",
       "</table>\n",
       "</div>"
      ],
      "text/plain": [
       "              Price\n",
       "Date               \n",
       "2015-01-22  0.01602\n",
       "2015-01-23    0.016\n",
       "2015-01-24  0.01739\n",
       "2015-01-25    0.017\n",
       "2015-01-26  0.01469"
      ]
     },
     "execution_count": 12,
     "metadata": {},
     "output_type": "execute_result"
    }
   ],
   "source": [
    "#make the date column the index\n",
    "nData.index=nData.Date\n",
    "\n",
    "#lets drop the date column as we only need the index and price\n",
    "nData.drop('Date', axis=1, inplace=True)\n",
    "nData.head()"
   ]
  },
  {
   "cell_type": "code",
   "execution_count": 13,
   "id": "0b6e760e",
   "metadata": {},
   "outputs": [],
   "source": [
    "dff=nData.copy() #making a copy of the data"
   ]
  },
  {
   "cell_type": "code",
   "execution_count": 14,
   "id": "086acc9d",
   "metadata": {},
   "outputs": [
    {
     "data": {
      "text/plain": [
       "[<matplotlib.lines.Line2D at 0x1c36005e820>]"
      ]
     },
     "execution_count": 14,
     "metadata": {},
     "output_type": "execute_result"
    },
    {
     "data": {
      "image/png": "[encoded data removed]",
      "text/plain": [
       "<Figure size 2000x1000 with 1 Axes>"
      ]
     },
     "metadata": {},
     "output_type": "display_data"
    }
   ],
   "source": [
    "#Lets see our first visual of out historic price\n",
    "plt.plot(nData)"
   ]
  },
  {
   "cell_type": "code",
   "execution_count": 15,
   "id": "bd4ccbc1",
   "metadata": {},
   "outputs": [],
   "source": [
    "dataset=nData.values #this copies the values of the data in nData\n",
    "train=dataset[0:int(len(nData)*0.8-1),:] #first 80% of the data would be used to train the data\n",
    "test=dataset[int(len(nData)*0.8-1):,:] #this sets 20% of the data of the most reent period of our dataset"
   ]
  },
  {
   "cell_type": "code",
   "execution_count": 16,
   "id": "76e39093",
   "metadata": {},
   "outputs": [
    {
     "data": {
      "text/plain": [
       "array([[0.01602],\n",
       "       [0.016],\n",
       "       [0.01739],\n",
       "       ...,\n",
       "       [0.36964],\n",
       "       [0.3802],\n",
       "       [0.38874]], dtype=object)"
      ]
     },
     "execution_count": 16,
     "metadata": {},
     "output_type": "execute_result"
    }
   ],
   "source": [
    "dataset"
   ]
  },
  {
   "cell_type": "code",
   "execution_count": 17,
   "id": "ac4063eb",
   "metadata": {},
   "outputs": [
    {
     "data": {
      "text/plain": [
       "2373"
      ]
     },
     "execution_count": 17,
     "metadata": {},
     "output_type": "execute_result"
    }
   ],
   "source": [
    "len(train) #cheaking the size of the training set"
   ]
  },
  {
   "cell_type": "code",
   "execution_count": 18,
   "id": "0f7cca58",
   "metadata": {},
   "outputs": [
    {
     "data": {
      "text/plain": [
       "595"
      ]
     },
     "execution_count": 18,
     "metadata": {},
     "output_type": "execute_result"
    }
   ],
   "source": [
    "len(test) #lenght of the test set"
   ]
  },
  {
   "cell_type": "code",
   "execution_count": 19,
   "id": "a9cd6e09",
   "metadata": {},
   "outputs": [
    {
     "data": {
      "text/plain": [
       "array([[0.00448776],\n",
       "       [0.00448056],\n",
       "       [0.0049812 ],\n",
       "       ...,\n",
       "       [0.1318523 ],\n",
       "       [0.13565573],\n",
       "       [0.13873161]])"
      ]
     },
     "execution_count": 19,
     "metadata": {},
     "output_type": "execute_result"
    }
   ],
   "source": [
    "# next we scale the data so the range is between 0 and 1\n",
    "\n",
    "scaler = MinMaxScaler(feature_range=(0,1))#defining the range of our scaler\n",
    "scaled_data = scaler.fit_transform(dataset) #pointing the scaler to our data set\n",
    "\n",
    "scaled_data #quick look at the results"
   ]
  },
  {
   "cell_type": "markdown",
   "id": "30f680be",
   "metadata": {},
   "source": [
    "#### Prepare our Data for Training a Recurrent Neural Network"
   ]
  },
  {
   "cell_type": "markdown",
   "id": "1faf0bff",
   "metadata": {},
   "source": [
    "for RNNs we use previous time steps as additional features. Good to choose an appropriate number of time steps (similar to batch size) which allows us to sufficiently sample the entire training set (training size / no. of time steps should be at least greater than 10)"
   ]
  },
  {
   "cell_type": "code",
   "execution_count": 20,
   "id": "a1901a09",
   "metadata": {},
   "outputs": [],
   "source": [
    "#lets add some features. We will use the last 60 time period as features for our trainig data set\n",
    "x_train, y_train=[],[] #empty list for the features\n",
    "\n",
    "#next we loop through the training set\n",
    "\n",
    "for i in range(60,len(train)):\n",
    "    x_train.append(scaled_data[i-60:i,0]) #getting the last 60\n",
    "    y_train.append(scaled_data[i,0]) #targeting only the current steps  \n",
    "    \n",
    "#convert to numpy array format\n",
    "x_train, y_train =np.array(x_train), np.array(y_train)\n",
    "\n",
    "# create a 3D tensor for the RNN network\n",
    "x_train = np.reshape(x_train, (x_train.shape[0], x_train.shape[1], 1))\n"
   ]
  },
  {
   "cell_type": "code",
   "execution_count": 21,
   "id": "2bc37a48",
   "metadata": {},
   "outputs": [
    {
     "data": {
      "text/plain": [
       "(2313, 60, 1)"
      ]
     },
     "execution_count": 21,
     "metadata": {},
     "output_type": "execute_result"
    }
   ],
   "source": [
    "x_train.shape"
   ]
  },
  {
   "cell_type": "code",
   "execution_count": 22,
   "id": "af609742",
   "metadata": {},
   "outputs": [
    {
     "data": {
      "text/plain": [
       "array([[[0.00448776],\n",
       "        [0.00448056],\n",
       "        [0.0049812 ],\n",
       "        ...,\n",
       "        [0.00142629],\n",
       "        [0.00235914],\n",
       "        [0.00233392]],\n",
       "\n",
       "       [[0.00448056],\n",
       "        [0.0049812 ],\n",
       "        [0.00484073],\n",
       "        ...,\n",
       "        [0.00235914],\n",
       "        [0.00233392],\n",
       "        [0.00222227]],\n",
       "\n",
       "       [[0.0049812 ],\n",
       "        [0.00484073],\n",
       "        [0.00400873],\n",
       "        ...,\n",
       "        [0.00233392],\n",
       "        [0.00222227],\n",
       "        [0.00229791]],\n",
       "\n",
       "       ...,\n",
       "\n",
       "       [[0.42356039],\n",
       "        [0.36105228],\n",
       "        [0.32468197],\n",
       "        ...,\n",
       "        [0.210968  ],\n",
       "        [0.20820907],\n",
       "        [0.21005676]],\n",
       "\n",
       "       [[0.36105228],\n",
       "        [0.32468197],\n",
       "        [0.28380588],\n",
       "        ...,\n",
       "        [0.20820907],\n",
       "        [0.21005676],\n",
       "        [0.19937402]],\n",
       "\n",
       "       [[0.32468197],\n",
       "        [0.28380588],\n",
       "        [0.35580095],\n",
       "        ...,\n",
       "        [0.21005676],\n",
       "        [0.19937402],\n",
       "        [0.18911988]]])"
      ]
     },
     "execution_count": 22,
     "metadata": {},
     "output_type": "execute_result"
    }
   ],
   "source": [
    "x_train"
   ]
  },
  {
   "cell_type": "markdown",
   "id": "06e64720",
   "metadata": {},
   "source": [
    "### Lets fit the LSTM Model"
   ]
  },
  {
   "cell_type": "code",
   "execution_count": 23,
   "id": "a36ced26",
   "metadata": {},
   "outputs": [],
   "source": [
    "# creat  LSTM network\n",
    "\n",
    "model = Sequential()\n",
    "model.add(LSTM(units=50, return_sequences =True, input_shape =(x_train.shape[1], 1)))\n",
    "model.add(LSTM(units=50))\n",
    "model.add(Dense(1))"
   ]
  },
  {
   "cell_type": "code",
   "execution_count": 24,
   "id": "0d05adbf",
   "metadata": {},
   "outputs": [],
   "source": [
    "# compile with Adam and optimization and MSE loss\n",
    "\n",
    "model.compile(loss=\"mean_squared_error\", optimizer =\"adam\")"
   ]
  },
  {
   "cell_type": "code",
   "execution_count": 29,
   "id": "e72560af",
   "metadata": {},
   "outputs": [
    {
     "name": "stdout",
     "output_type": "stream",
     "text": [
      "Epoch 1/10\n",
      "1157/1157 [==============================] - 23s 20ms/step - loss: 6.9336e-04\n",
      "Epoch 2/10\n",
      "1157/1157 [==============================] - 23s 20ms/step - loss: 5.0848e-04\n",
      "Epoch 3/10\n",
      "1157/1157 [==============================] - 23s 20ms/step - loss: 5.4773e-04\n",
      "Epoch 4/10\n",
      "1157/1157 [==============================] - 23s 20ms/step - loss: 3.7624e-04\n",
      "Epoch 5/10\n",
      "1157/1157 [==============================] - 23s 20ms/step - loss: 4.0624e-04\n",
      "Epoch 6/10\n",
      "1157/1157 [==============================] - 23s 19ms/step - loss: 3.9227e-04\n",
      "Epoch 7/10\n",
      "1157/1157 [==============================] - 23s 20ms/step - loss: 3.9723e-04\n",
      "Epoch 8/10\n",
      "1157/1157 [==============================] - 23s 20ms/step - loss: 3.6110e-04\n",
      "Epoch 9/10\n",
      "1157/1157 [==============================] - 23s 19ms/step - loss: 3.4721e-04\n",
      "Epoch 10/10\n",
      "1157/1157 [==============================] - 23s 20ms/step - loss: 3.4138e-04\n"
     ]
    },
    {
     "data": {
      "text/plain": [
       "<keras.callbacks.History at 0x1c3696ae430>"
      ]
     },
     "execution_count": 29,
     "metadata": {},
     "output_type": "execute_result"
    }
   ],
   "source": [
    "# fit the model and run the training process\n",
    "\n",
    "model.fit(x_train, y_train, epochs=10,  batch_size=2, verbose=1)\n",
    "\n",
    "#I could increase the epochs and batch size"
   ]
  },
  {
   "cell_type": "code",
   "execution_count": 31,
   "id": "e9f906bf",
   "metadata": {},
   "outputs": [],
   "source": [
    "# get data from 60 time steps b4 test set starts\n",
    "inputs = nData[len(nData) - len(test) - 60:].values \n",
    "\n",
    "# last 60 values\n",
    "\n",
    "inputs = inputs.reshape(-1,1) # -1 means use the number of rows in the source variable (input)\n",
    "inputs = scaler.transform(inputs) # we need to scale again as model was trained on scaled data\n",
    "\n",
    "# we start from row 60 of the TEST set\n",
    "x_test = [] #creating a list\n",
    "\n",
    "for i in range(60, inputs.shape[0]):\n",
    "    x_test.append(inputs[i-60:i,0]) # gather up the last 60 time steps for each of the test set timesteps\n",
    "x_test = np.array(x_test) # convert the actual test data to a numpy array\n",
    "\n",
    "x_test = np.reshape(x_test, (x_test.shape[0],x_test.shape[1], 1)) # convert to 3D numpy array for predicting\n",
    "pricePred = model.predict(x_test) # predict our stock price for next time step\n",
    "\n",
    "#### Wrangle Data back to original format (unscaled) for plotting\n",
    "# (reverse process)\n",
    "pricePred = scaler.inverse_transform(pricePred) # reverse scale back into original units"
   ]
  },
  {
   "cell_type": "code",
   "execution_count": 32,
   "id": "00d24244",
   "metadata": {},
   "outputs": [
    {
     "data": {
      "text/plain": [
       "(655, 1)"
      ]
     },
     "execution_count": 32,
     "metadata": {},
     "output_type": "execute_result"
    }
   ],
   "source": [
    "inputs.shape"
   ]
  },
  {
   "cell_type": "code",
   "execution_count": 33,
   "id": "f90f42c3",
   "metadata": {},
   "outputs": [
    {
     "data": {
      "text/plain": [
       "0.043254765861539604"
      ]
     },
     "execution_count": 33,
     "metadata": {},
     "output_type": "execute_result"
    }
   ],
   "source": [
    "# square root of the average squared error b/w actual (test) and \n",
    "# our prediction (pricePred)\n",
    "rms = np.sqrt(np.mean(np.power((test-pricePred),2))) \n",
    "rms"
   ]
  },
  {
   "cell_type": "code",
   "execution_count": 34,
   "id": "97434517",
   "metadata": {},
   "outputs": [],
   "source": [
    "# our RMSE isnt too bad. it does beg the question if the model id over fitted or really good"
   ]
  },
  {
   "cell_type": "raw",
   "id": "4102fb38",
   "metadata": {},
   "source": [
    "RMSE stands for Root Mean Squared Error, and it is a commonly used metric for evaluating the accuracy of a predictive model, particularly in regression tasks. RMSE measures the difference between the predicted values and the actual values, and it is calculated by taking the square root of the average of the squared differences between the predicted and actual values.\n",
    "\n",
    "RMSE is used in various domains, including finance, economics, machine learning, and statistics. Some of the main uses of RMSE are:"
   ]
  },
  {
   "cell_type": "code",
   "execution_count": 35,
   "id": "e2a82989",
   "metadata": {},
   "outputs": [
    {
     "data": {
      "text/plain": [
       "array([[0.55819476],\n",
       "       [0.570481  ],\n",
       "       [0.58955157],\n",
       "       [0.59050214],\n",
       "       [0.594751  ],\n",
       "       [0.6105142 ],\n",
       "       [0.62857616],\n",
       "       [0.70658004],\n",
       "       [0.7167564 ],\n",
       "       [0.7307358 ],\n",
       "       [0.7266024 ],\n",
       "       [0.7097064 ],\n",
       "       [0.72135556],\n",
       "       [0.6912226 ],\n",
       "       [0.70945483],\n",
       "       [0.70458114],\n",
       "       [0.7190496 ],\n",
       "       [0.7823637 ],\n",
       "       [0.7423811 ],\n",
       "       [0.7943567 ],\n",
       "       [0.81642133],\n",
       "       [0.9731032 ],\n",
       "       [0.905043  ],\n",
       "       [1.0675753 ],\n",
       "       [1.2216251 ],\n",
       "       [1.2077935 ],\n",
       "       [1.1437508 ],\n",
       "       [1.0740589 ],\n",
       "       [1.114711  ],\n",
       "       [1.1684773 ],\n",
       "       [1.1798198 ],\n",
       "       [1.1420106 ],\n",
       "       [1.1697046 ],\n",
       "       [1.1776919 ],\n",
       "       [1.0665357 ],\n",
       "       [1.1362139 ],\n",
       "       [0.9970286 ],\n",
       "       [1.1544603 ],\n",
       "       [1.050563  ],\n",
       "       [1.092916  ],\n",
       "       [1.0381539 ],\n",
       "       [1.1394069 ],\n",
       "       [1.1582004 ],\n",
       "       [1.1870698 ],\n",
       "       [1.227306  ],\n",
       "       [1.1866615 ],\n",
       "       [1.2576761 ],\n",
       "       [1.31594   ],\n",
       "       [1.0331877 ],\n",
       "       [1.0982872 ],\n",
       "       [1.0205424 ],\n",
       "       [0.9964355 ],\n",
       "       [1.0161988 ],\n",
       "       [1.0477923 ],\n",
       "       [0.9941755 ],\n",
       "       [1.0492439 ],\n",
       "       [1.0587466 ],\n",
       "       [1.0345685 ],\n",
       "       [1.0219346 ],\n",
       "       [1.0305146 ],\n",
       "       [0.9963886 ],\n",
       "       [0.8805289 ],\n",
       "       [0.851697  ],\n",
       "       [0.9599556 ],\n",
       "       [0.92617315],\n",
       "       [0.89758   ],\n",
       "       [0.9038086 ],\n",
       "       [0.90301543],\n",
       "       [0.88121915],\n",
       "       [0.8581723 ],\n",
       "       [0.89091414],\n",
       "       [0.9057907 ],\n",
       "       [0.99295646],\n",
       "       [0.9766785 ],\n",
       "       [1.0154213 ],\n",
       "       [0.9962128 ],\n",
       "       [1.0466065 ],\n",
       "       [1.0226258 ],\n",
       "       [1.0230373 ],\n",
       "       [1.0148329 ],\n",
       "       [1.1103038 ],\n",
       "       [1.0610843 ],\n",
       "       [1.0909554 ],\n",
       "       [1.0443989 ],\n",
       "       [1.0835004 ],\n",
       "       [1.0711464 ],\n",
       "       [1.085037  ],\n",
       "       [1.0745149 ],\n",
       "       [1.0382335 ],\n",
       "       [1.0359119 ],\n",
       "       [1.0369868 ],\n",
       "       [1.0859505 ],\n",
       "       [1.0203964 ],\n",
       "       [1.0465933 ],\n",
       "       [1.0376074 ],\n",
       "       [1.029041  ],\n",
       "       [1.0436224 ],\n",
       "       [1.0501071 ],\n",
       "       [0.9400714 ],\n",
       "       [1.0288755 ],\n",
       "       [1.0138302 ],\n",
       "       [1.028643  ],\n",
       "       [1.0577419 ],\n",
       "       [1.0343931 ],\n",
       "       [1.0889283 ],\n",
       "       [1.1488523 ],\n",
       "       [1.1323708 ],\n",
       "       [1.1065717 ],\n",
       "       [1.105534  ],\n",
       "       [1.1642253 ],\n",
       "       [1.2087411 ],\n",
       "       [1.1793178 ],\n",
       "       [1.1348885 ],\n",
       "       [1.1668729 ],\n",
       "       [1.1186872 ],\n",
       "       [1.1327423 ],\n",
       "       [1.120687  ],\n",
       "       [1.1079484 ],\n",
       "       [1.0277345 ],\n",
       "       [1.0523216 ],\n",
       "       [0.9791578 ],\n",
       "       [1.042954  ],\n",
       "       [1.0259817 ],\n",
       "       [1.0018601 ],\n",
       "       [0.98900586],\n",
       "       [1.0245574 ],\n",
       "       [0.975455  ],\n",
       "       [1.001145  ],\n",
       "       [0.8895238 ],\n",
       "       [0.9195797 ],\n",
       "       [0.91909677],\n",
       "       [0.9377865 ],\n",
       "       [0.94522655],\n",
       "       [0.94203764],\n",
       "       [0.93010354],\n",
       "       [0.8842332 ],\n",
       "       [0.8195409 ],\n",
       "       [0.78104436],\n",
       "       [0.79429954],\n",
       "       [0.77258784],\n",
       "       [0.8208238 ],\n",
       "       [0.81127733],\n",
       "       [0.767817  ],\n",
       "       [0.8128087 ],\n",
       "       [0.80251694],\n",
       "       [0.7546969 ],\n",
       "       [0.78882074],\n",
       "       [0.7905166 ],\n",
       "       [0.77310544],\n",
       "       [0.7705189 ],\n",
       "       [0.7956952 ],\n",
       "       [0.79896754],\n",
       "       [0.8433722 ],\n",
       "       [0.9039655 ],\n",
       "       [0.9081299 ],\n",
       "       [0.9585525 ],\n",
       "       [0.8717965 ],\n",
       "       [0.9075913 ],\n",
       "       [0.88085353],\n",
       "       [0.88941145],\n",
       "       [0.81228864],\n",
       "       [0.79226506],\n",
       "       [0.8041945 ],\n",
       "       [0.78761625],\n",
       "       [0.8111774 ],\n",
       "       [0.81668234],\n",
       "       [0.7962304 ],\n",
       "       [0.79492986],\n",
       "       [0.7452361 ],\n",
       "       [0.75834364],\n",
       "       [0.7327914 ],\n",
       "       [0.7191862 ],\n",
       "       [0.7255541 ],\n",
       "       [0.7109681 ],\n",
       "       [0.74140185],\n",
       "       [0.76296926],\n",
       "       [0.7371614 ],\n",
       "       [0.7516561 ],\n",
       "       [0.75277925],\n",
       "       [0.75210685],\n",
       "       [0.7365812 ],\n",
       "       [0.7286582 ],\n",
       "       [0.71437466],\n",
       "       [0.6976307 ],\n",
       "       [0.6218317 ],\n",
       "       [0.5902012 ],\n",
       "       [0.60977995],\n",
       "       [0.5862717 ],\n",
       "       [0.5961156 ],\n",
       "       [0.59689564],\n",
       "       [0.5905667 ],\n",
       "       [0.5960313 ],\n",
       "       [0.60147697],\n",
       "       [0.5880451 ],\n",
       "       [0.60439706],\n",
       "       [0.611018  ],\n",
       "       [0.58767766],\n",
       "       [0.5986072 ],\n",
       "       [0.63555485],\n",
       "       [0.64216655],\n",
       "       [0.6622426 ],\n",
       "       [0.79981875],\n",
       "       [0.8289371 ],\n",
       "       [0.84096897],\n",
       "       [0.80770475],\n",
       "       [0.7505908 ],\n",
       "       [0.80698276],\n",
       "       [0.76803935],\n",
       "       [0.7720246 ],\n",
       "       [0.81442636],\n",
       "       [0.79366857],\n",
       "       [0.74027604],\n",
       "       [0.7639511 ],\n",
       "       [0.7859815 ],\n",
       "       [0.7411793 ],\n",
       "       [0.684546  ],\n",
       "       [0.704192  ],\n",
       "       [0.6686158 ],\n",
       "       [0.6729044 ],\n",
       "       [0.7361533 ],\n",
       "       [0.71275645],\n",
       "       [0.7007457 ],\n",
       "       [0.7581332 ],\n",
       "       [0.7509642 ],\n",
       "       [0.7456131 ],\n",
       "       [0.7316755 ],\n",
       "       [0.69551295],\n",
       "       [0.7334258 ],\n",
       "       [0.69484144],\n",
       "       [0.6986938 ],\n",
       "       [0.6952178 ],\n",
       "       [0.7362278 ],\n",
       "       [0.70456755],\n",
       "       [0.7772375 ],\n",
       "       [0.750052  ],\n",
       "       [0.7391547 ],\n",
       "       [0.7533807 ],\n",
       "       [0.73962444],\n",
       "       [0.7656198 ],\n",
       "       [0.7613326 ],\n",
       "       [0.76805663],\n",
       "       [0.78916377],\n",
       "       [0.7743108 ],\n",
       "       [0.80895203],\n",
       "       [0.8016656 ],\n",
       "       [0.8079445 ],\n",
       "       [0.81184936],\n",
       "       [0.793717  ],\n",
       "       [0.8046245 ],\n",
       "       [0.82299757],\n",
       "       [0.8253118 ],\n",
       "       [0.8235924 ],\n",
       "       [0.82882625],\n",
       "       [0.78429747],\n",
       "       [0.8029498 ],\n",
       "       [0.78905445],\n",
       "       [0.8095479 ],\n",
       "       [0.7899993 ],\n",
       "       [0.7868801 ],\n",
       "       [0.7332458 ],\n",
       "       [0.7650404 ],\n",
       "       [0.722561  ],\n",
       "       [0.7369576 ],\n",
       "       [0.72368807],\n",
       "       [0.6723729 ],\n",
       "       [0.69588315],\n",
       "       [0.6933071 ],\n",
       "       [0.6986681 ],\n",
       "       [0.7544411 ],\n",
       "       [0.7458276 ],\n",
       "       [0.729925  ],\n",
       "       [0.7494782 ],\n",
       "       [0.7486089 ],\n",
       "       [0.7280811 ],\n",
       "       [0.7129675 ],\n",
       "       [0.6970363 ],\n",
       "       [0.68360907],\n",
       "       [0.67519474],\n",
       "       [0.6689337 ],\n",
       "       [0.623018  ],\n",
       "       [0.6358321 ],\n",
       "       [0.6204602 ],\n",
       "       [0.5948666 ],\n",
       "       [0.5732142 ],\n",
       "       [0.59105444],\n",
       "       [0.5931207 ],\n",
       "       [0.58707106],\n",
       "       [0.62684405],\n",
       "       [0.5815069 ],\n",
       "       [0.5945213 ],\n",
       "       [0.56989706],\n",
       "       [0.55827725],\n",
       "       [0.4871661 ],\n",
       "       [0.5100614 ],\n",
       "       [0.41571286],\n",
       "       [0.39335215],\n",
       "       [0.41524202],\n",
       "       [0.41308144],\n",
       "       [0.43554148],\n",
       "       [0.4175408 ],\n",
       "       [0.43577456],\n",
       "       [0.40793127],\n",
       "       [0.4231543 ],\n",
       "       [0.41147968],\n",
       "       [0.41584575],\n",
       "       [0.42068014],\n",
       "       [0.4065578 ],\n",
       "       [0.4102856 ],\n",
       "       [0.4065905 ],\n",
       "       [0.3951121 ],\n",
       "       [0.3854513 ],\n",
       "       [0.38808256],\n",
       "       [0.3888485 ],\n",
       "       [0.41384286],\n",
       "       [0.41682655],\n",
       "       [0.40069702],\n",
       "       [0.4086956 ],\n",
       "       [0.39399853],\n",
       "       [0.3957757 ],\n",
       "       [0.39629525],\n",
       "       [0.40198982],\n",
       "       [0.40618515],\n",
       "       [0.4010664 ],\n",
       "       [0.40181696],\n",
       "       [0.38573748],\n",
       "       [0.36729354],\n",
       "       [0.35154122],\n",
       "       [0.3225381 ],\n",
       "       [0.327923  ],\n",
       "       [0.34235913],\n",
       "       [0.31790876],\n",
       "       [0.3268924 ],\n",
       "       [0.3148382 ],\n",
       "       [0.33097604],\n",
       "       [0.32746458],\n",
       "       [0.33503395],\n",
       "       [0.3296546 ],\n",
       "       [0.34158862],\n",
       "       [0.36755595],\n",
       "       [0.36903968],\n",
       "       [0.36534962],\n",
       "       [0.3614029 ],\n",
       "       [0.3472517 ],\n",
       "       [0.3390359 ],\n",
       "       [0.33852696],\n",
       "       [0.32178143],\n",
       "       [0.32233   ],\n",
       "       [0.32551593],\n",
       "       [0.33143824],\n",
       "       [0.33017424],\n",
       "       [0.33713752],\n",
       "       [0.34631246],\n",
       "       [0.3458585 ],\n",
       "       [0.35057014],\n",
       "       [0.33470437],\n",
       "       [0.3263319 ],\n",
       "       [0.32124346],\n",
       "       [0.3290768 ],\n",
       "       [0.33630502],\n",
       "       [0.33767763],\n",
       "       [0.3528292 ],\n",
       "       [0.34772718],\n",
       "       [0.3684214 ],\n",
       "       [0.37488487],\n",
       "       [0.36803845],\n",
       "       [0.37265274],\n",
       "       [0.36397532],\n",
       "       [0.3649954 ],\n",
       "       [0.36292395],\n",
       "       [0.343451  ],\n",
       "       [0.34436977],\n",
       "       [0.360078  ],\n",
       "       [0.37168828],\n",
       "       [0.36900476],\n",
       "       [0.38819116],\n",
       "       [0.38166228],\n",
       "       [0.38373715],\n",
       "       [0.37693146],\n",
       "       [0.37486756],\n",
       "       [0.37462816],\n",
       "       [0.3783793 ],\n",
       "       [0.37390193],\n",
       "       [0.375078  ],\n",
       "       [0.38020048],\n",
       "       [0.37078458],\n",
       "       [0.38320303],\n",
       "       [0.38131613],\n",
       "       [0.38192645],\n",
       "       [0.38098532],\n",
       "       [0.3790668 ],\n",
       "       [0.37839204],\n",
       "       [0.37954524],\n",
       "       [0.3814874 ],\n",
       "       [0.37379494],\n",
       "       [0.3444924 ],\n",
       "       [0.3451892 ],\n",
       "       [0.34788576],\n",
       "       [0.34654665],\n",
       "       [0.34968656],\n",
       "       [0.34907869],\n",
       "       [0.35291883],\n",
       "       [0.3450419 ],\n",
       "       [0.34199256],\n",
       "       [0.3309833 ],\n",
       "       [0.33969843],\n",
       "       [0.3323548 ],\n",
       "       [0.33384028],\n",
       "       [0.33791295],\n",
       "       [0.33674303],\n",
       "       [0.3359201 ],\n",
       "       [0.33778137],\n",
       "       [0.33873978],\n",
       "       [0.32942006],\n",
       "       [0.3420522 ],\n",
       "       [0.34346083],\n",
       "       [0.35901508],\n",
       "       [0.36011943],\n",
       "       [0.36038873],\n",
       "       [0.36474872],\n",
       "       [0.3420757 ],\n",
       "       [0.34953478],\n",
       "       [0.33381796],\n",
       "       [0.35728252],\n",
       "       [0.37296888],\n",
       "       [0.36064067],\n",
       "       [0.38626847],\n",
       "       [0.41075376],\n",
       "       [0.3958702 ],\n",
       "       [0.47715414],\n",
       "       [0.493665  ],\n",
       "       [0.48548964],\n",
       "       [0.493772  ],\n",
       "       [0.47116295],\n",
       "       [0.45218793],\n",
       "       [0.44959548],\n",
       "       [0.47752878],\n",
       "       [0.46887556],\n",
       "       [0.4691578 ],\n",
       "       [0.44666153],\n",
       "       [0.459465  ],\n",
       "       [0.471133  ],\n",
       "       [0.4795687 ],\n",
       "       [0.48584285],\n",
       "       [0.5085642 ],\n",
       "       [0.5084988 ],\n",
       "       [0.5250795 ],\n",
       "       [0.49108008],\n",
       "       [0.48743382],\n",
       "       [0.48448002],\n",
       "       [0.4740465 ],\n",
       "       [0.4813516 ],\n",
       "       [0.47403073],\n",
       "       [0.47084454],\n",
       "       [0.47357517],\n",
       "       [0.46134144],\n",
       "       [0.44935983],\n",
       "       [0.44507775],\n",
       "       [0.45575842],\n",
       "       [0.45831183],\n",
       "       [0.46281865],\n",
       "       [0.4506197 ],\n",
       "       [0.45829454],\n",
       "       [0.46395814],\n",
       "       [0.4578914 ],\n",
       "       [0.47001925],\n",
       "       [0.4653145 ],\n",
       "       [0.45636666],\n",
       "       [0.46166825],\n",
       "       [0.45936516],\n",
       "       [0.44787198],\n",
       "       [0.45221096],\n",
       "       [0.49440983],\n",
       "       [0.48217508],\n",
       "       [0.4697345 ],\n",
       "       [0.4652713 ],\n",
       "       [0.41292068],\n",
       "       [0.35034487],\n",
       "       [0.39538723],\n",
       "       [0.37679547],\n",
       "       [0.36337674],\n",
       "       [0.3455698 ],\n",
       "       [0.3749657 ],\n",
       "       [0.3840116 ],\n",
       "       [0.3751472 ],\n",
       "       [0.38561288],\n",
       "       [0.38486487],\n",
       "       [0.38774097],\n",
       "       [0.36866924],\n",
       "       [0.37124398],\n",
       "       [0.37785774],\n",
       "       [0.38219634],\n",
       "       [0.3998295 ],\n",
       "       [0.40559697],\n",
       "       [0.39833027],\n",
       "       [0.39973494],\n",
       "       [0.39304432],\n",
       "       [0.39981917],\n",
       "       [0.4067133 ],\n",
       "       [0.39768508],\n",
       "       [0.3984413 ],\n",
       "       [0.38984662],\n",
       "       [0.3917765 ],\n",
       "       [0.39034507],\n",
       "       [0.39207944],\n",
       "       [0.3852302 ],\n",
       "       [0.39485914],\n",
       "       [0.389656  ],\n",
       "       [0.38889664],\n",
       "       [0.3840252 ],\n",
       "       [0.3890573 ],\n",
       "       [0.3951241 ],\n",
       "       [0.38713646],\n",
       "       [0.382084  ],\n",
       "       [0.35911465],\n",
       "       [0.3608346 ],\n",
       "       [0.35377008],\n",
       "       [0.3441626 ],\n",
       "       [0.3515045 ],\n",
       "       [0.34821606],\n",
       "       [0.35251045],\n",
       "       [0.35702428],\n",
       "       [0.3560561 ],\n",
       "       [0.35187876],\n",
       "       [0.3686683 ],\n",
       "       [0.3695222 ],\n",
       "       [0.36175016],\n",
       "       [0.35071078],\n",
       "       [0.35204655],\n",
       "       [0.34472603],\n",
       "       [0.34409806],\n",
       "       [0.35108706],\n",
       "       [0.347305  ],\n",
       "       [0.3517424 ],\n",
       "       [0.343783  ],\n",
       "       [0.3496042 ],\n",
       "       [0.34873864],\n",
       "       [0.34970278],\n",
       "       [0.35330042],\n",
       "       [0.3549662 ],\n",
       "       [0.37381917],\n",
       "       [0.37587908],\n",
       "       [0.38759023],\n",
       "       [0.3961584 ],\n",
       "       [0.38860407],\n",
       "       [0.39080724],\n",
       "       [0.39023316],\n",
       "       [0.38269386],\n",
       "       [0.39404154],\n",
       "       [0.40977037],\n",
       "       [0.40239185],\n",
       "       [0.4025053 ],\n",
       "       [0.42211157],\n",
       "       [0.4079839 ],\n",
       "       [0.4180092 ],\n",
       "       [0.41023678],\n",
       "       [0.41367066],\n",
       "       [0.40851197],\n",
       "       [0.41310388],\n",
       "       [0.39583403],\n",
       "       [0.40654388],\n",
       "       [0.4108439 ],\n",
       "       [0.40855458],\n",
       "       [0.41128683],\n",
       "       [0.41090825],\n",
       "       [0.40073705],\n",
       "       [0.3953403 ],\n",
       "       [0.40383402],\n",
       "       [0.3975894 ],\n",
       "       [0.3851656 ],\n",
       "       [0.38523635],\n",
       "       [0.38483232],\n",
       "       [0.37725893],\n",
       "       [0.3737676 ],\n",
       "       [0.38282537],\n",
       "       [0.3983938 ],\n",
       "       [0.38545284],\n",
       "       [0.39702886],\n",
       "       [0.3956328 ],\n",
       "       [0.38992873],\n",
       "       [0.39995578],\n",
       "       [0.39344898],\n",
       "       [0.39692995],\n",
       "       [0.39059633],\n",
       "       [0.38247484],\n",
       "       [0.38119996],\n",
       "       [0.3800152 ],\n",
       "       [0.37999633],\n",
       "       [0.37804607],\n",
       "       [0.38451606],\n",
       "       [0.37912548],\n",
       "       [0.38028207],\n",
       "       [0.37677312],\n",
       "       [0.37120378],\n",
       "       [0.3731227 ],\n",
       "       [0.38112482]], dtype=float32)"
      ]
     },
     "execution_count": 35,
     "metadata": {},
     "output_type": "execute_result"
    }
   ],
   "source": [
    "pricePred"
   ]
  },
  {
   "cell_type": "code",
   "execution_count": 36,
   "id": "ec6ba453",
   "metadata": {},
   "outputs": [
    {
     "data": {
      "text/plain": [
       "0.3544278773584904"
      ]
     },
     "execution_count": 36,
     "metadata": {},
     "output_type": "execute_result"
    }
   ],
   "source": [
    "nData[\"Price\"].mean() #average price"
   ]
  },
  {
   "cell_type": "code",
   "execution_count": 37,
   "id": "f759a46d",
   "metadata": {},
   "outputs": [
    {
     "name": "stderr",
     "output_type": "stream",
     "text": [
      "C:\\Users\\anuma\\AppData\\Local\\Temp\\ipykernel_25808\\913410103.py:6: SettingWithCopyWarning: \n",
      "A value is trying to be set on a copy of a slice from a DataFrame.\n",
      "Try using .loc[row_indexer,col_indexer] = value instead\n",
      "\n",
      "See the caveats in the documentation: https://pandas.pydata.org/pandas-docs/stable/user_guide/indexing.html#returning-a-view-versus-a-copy\n",
      "  test_new[\"Predictions\"] = pricePred # copy our predicted stock prices\n"
     ]
    },
    {
     "data": {
      "image/png": "[encoded data removed]",
      "text/plain": [
       "<Figure size 2000x1000 with 1 Axes>"
      ]
     },
     "metadata": {},
     "output_type": "display_data"
    }
   ],
   "source": [
    "# plot the actual stock price time series chart against our predictions\n",
    "\n",
    "# plot our training set, our test set and our predictions on the same chart\n",
    "train_new = nData[:int(len(nData)*0.8-1)] # up to row number 80% of total rows in nData\n",
    "test_new = nData[int(len(nData)*0.8-1):] # from row number 20% of total rows to the end\n",
    "test_new[\"Predictions\"] = pricePred # copy our predicted stock prices\n",
    "\n",
    "plt.rcParams.update({'font.size': 15})\n",
    "\n",
    "plt.plot(train_new[\"Price\"]) # plot the training set data\n",
    "plt.plot(test_new[[\"Price\",\"Predictions\"]]) # plot the test set stock prices and our predictions\n",
    "# NB in line above we \"combine\" actual test stock prices and predictions oN THE SAME LINE of the chart\n",
    "\n",
    "plt.title(\"XRP - RNN forecasting comparison\")\n",
    "\n",
    "plt.legend([\"Train\",\"Test\",\"Prediction\"]);"
   ]
  },
  {
   "cell_type": "markdown",
   "id": "ed2c73fd",
   "metadata": {},
   "source": [
    "### Lets take a look into the future with a 2 weeks forecast"
   ]
  },
  {
   "cell_type": "code",
   "execution_count": 38,
   "id": "7546e594",
   "metadata": {},
   "outputs": [
    {
     "name": "stdout",
     "output_type": "stream",
     "text": [
      "Predicted prices for the next 14 days:\n",
      "[0.3883513  0.3892081  0.39127618 0.39341804 0.39534518 0.39702117\n",
      " 0.398461   0.39969158 0.40074256 0.40164328 0.40242115 0.40310058\n",
      " 0.4037022  0.4042429 ]\n"
     ]
    }
   ],
   "source": [
    "\n",
    "# Get data from 60 time steps before the test set starts\n",
    "inputs = nData[len(nData) - len(test) - 60:].values \n",
    "\n",
    "# Reshape inputs to a column vector\n",
    "inputs = inputs.reshape(-1, 1)\n",
    "\n",
    "# Scale inputs\n",
    "inputs = scaler.transform(inputs)\n",
    "\n",
    "# Initialize x_test as a copy of inputs\n",
    "x_test = np.copy(inputs)\n",
    "\n",
    "# Predict stock prices for next 14 days (2 weeks)\n",
    "num_days_to_predict = 14\n",
    "predicted_prices = []\n",
    "\n",
    "# Iterate over each day to be predicted\n",
    "for i in range(num_days_to_predict):\n",
    "    # Predict the price for the next time step\n",
    "    next_pred = model.predict(np.expand_dims(x_test[-60:], axis=0))\n",
    "    \n",
    "    # Store the predicted price\n",
    "    predicted_prices.append(scaler.inverse_transform(next_pred)[0, 0])\n",
    "    \n",
    "    # Update x_test with the predicted price for the next time step\n",
    "    x_test = np.append(x_test, next_pred, axis=0)\n",
    "\n",
    "# Wrangle predicted prices back to original format (unscaled)\n",
    "predicted_prices = np.array(predicted_prices)\n",
    "\n",
    "# Print the predicted prices for the next 14 days\n",
    "print(\"Predicted prices for the next 14 days:\")\n",
    "print(predicted_prices)\n"
   ]
  },
  {
   "cell_type": "code",
   "execution_count": null,
   "id": "7de5c817",
   "metadata": {},
   "outputs": [],
   "source": [
    "# Well, thats it. I have to monitor the results in real time over the next few days to see how my model does in the real world"
   ]
  },
  {
   "cell_type": "raw",
   "id": "b6221087",
   "metadata": {},
   "source": [
    "this model is only a test run and can be imprved. Some ways of improving RNN forecasting include but not limited to the following\n",
    "\n",
    "\n",
    "Increase the model's capacity: You can increase the capacity of the RNN by adding more hidden units or layers to the network. This allows the model to learn more complex patterns in the data, which may improve its performance. However, be careful not to make the model too large, as it may lead to overfitting.\n",
    "\n",
    "Train for more epochs: Training an RNN for more epochs allows the model to see the data more times and potentially learn better representations. However, be cautious of overfitting, as the model may start to memorize the training data if trained for too many epochs.\n",
    "\n",
    "Use different activation functions: The choice of activation functions can have an impact on the performance of the RNN. Experimenting with different activation functions, such as ReLU, tanh, or sigmoid, may yield better results depending on the nature of your data and problem.\n",
    "\n",
    "Hyperparameter tuning: Experimenting with different hyperparameter values, such as learning rate, batch size, and optimizer, can significantly impact the performance of the RNN. Conducting hyperparameter tuning to identify the optimal values for your specific problem can lead to better results.\n",
    "\n",
    "Use ensemble methods: Ensembling involves combining multiple RNN models to make predictions. Techniques such as model averaging, stacking, and boosting can be used to create an ensemble of RNN models, which may result in improved performance compared to a single RNN model."
   ]
  },
  {
   "cell_type": "code",
   "execution_count": null,
   "id": "76f0825c",
   "metadata": {},
   "outputs": [],
   "source": []
  }
 ],
 "metadata": {
  "kernelspec": {
   "display_name": "Python 3 (ipykernel)",
   "language": "python",
   "name": "python3"
  },
  "language_info": {
   "codemirror_mode": {
    "name": "ipython",
    "version": 3
   },
   "file_extension": ".py",
   "mimetype": "text/x-python",
   "name": "python",
   "nbconvert_exporter": "python",
   "pygments_lexer": "ipython3",
   "version": "3.8.8"
  }
 },
 "nbformat": 4,
 "nbformat_minor": 5
}
